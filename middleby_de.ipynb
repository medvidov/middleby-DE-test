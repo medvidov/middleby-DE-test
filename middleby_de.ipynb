{
 "cells": [
  {
   "cell_type": "code",
   "execution_count": 5,
   "id": "84f5ff9a-f8d7-47b3-8bb3-2edd39fc6051",
   "metadata": {},
   "outputs": [
    {
     "name": "stdout",
     "output_type": "stream",
     "text": [
      "Requirement already satisfied: pandas in ./venv/lib/python3.12/site-packages (2.3.3)\n",
      "Requirement already satisfied: numpy>=1.26.0 in ./venv/lib/python3.12/site-packages (from pandas) (2.3.4)\n",
      "Requirement already satisfied: python-dateutil>=2.8.2 in ./venv/lib/python3.12/site-packages (from pandas) (2.9.0.post0)\n",
      "Requirement already satisfied: pytz>=2020.1 in ./venv/lib/python3.12/site-packages (from pandas) (2025.2)\n",
      "Requirement already satisfied: tzdata>=2022.7 in ./venv/lib/python3.12/site-packages (from pandas) (2025.2)\n",
      "Requirement already satisfied: six>=1.5 in ./venv/lib/python3.12/site-packages (from python-dateutil>=2.8.2->pandas) (1.17.0)\n",
      "\n",
      "\u001b[1m[\u001b[0m\u001b[34;49mnotice\u001b[0m\u001b[1;39;49m]\u001b[0m\u001b[39;49m A new release of pip is available: \u001b[0m\u001b[31;49m24.0\u001b[0m\u001b[39;49m -> \u001b[0m\u001b[32;49m25.2\u001b[0m\n",
      "\u001b[1m[\u001b[0m\u001b[34;49mnotice\u001b[0m\u001b[1;39;49m]\u001b[0m\u001b[39;49m To update, run: \u001b[0m\u001b[32;49mpip install --upgrade pip\u001b[0m\n",
      "Note: you may need to restart the kernel to use updated packages.\n"
     ]
    }
   ],
   "source": [
    "pip install pandas"
   ]
  },
  {
   "cell_type": "code",
   "execution_count": 6,
   "id": "9c3dbc4d-0b82-4668-917b-c0d368dd706d",
   "metadata": {},
   "outputs": [],
   "source": [
    "import pandas as pd\n",
    "import numpy as np"
   ]
  },
  {
   "cell_type": "markdown",
   "id": "daa70577",
   "metadata": {},
   "source": [
    "# Exploratory Data Analysis"
   ]
  },
  {
   "cell_type": "code",
   "execution_count": 7,
   "id": "67363508-a794-42ad-8353-ef23fed85789",
   "metadata": {},
   "outputs": [
    {
     "name": "stdout",
     "output_type": "stream",
     "text": [
      "total 142568\n",
      "-rw-rw-rw-@ 1 pavlemedvidovic  staff     56067 Oct  6  2024 item.csv\n",
      "-rw-rw-rw-@ 1 pavlemedvidovic  staff  19547042 Oct  6  2024 promotion.csv\n",
      "-rw-rw-rw-@ 1 pavlemedvidovic  staff  53376614 Oct  6  2024 sales.csv\n",
      "-rw-rw-rw-@ 1 pavlemedvidovic  staff      4177 Oct  6  2024 supermarkets.csv\n"
     ]
    }
   ],
   "source": [
    "ls -l data/"
   ]
  },
  {
   "cell_type": "code",
   "execution_count": 11,
   "id": "de8b056c",
   "metadata": {},
   "outputs": [
    {
     "data": {
      "text/html": [
       "<div>\n",
       "<style scoped>\n",
       "    .dataframe tbody tr th:only-of-type {\n",
       "        vertical-align: middle;\n",
       "    }\n",
       "\n",
       "    .dataframe tbody tr th {\n",
       "        vertical-align: top;\n",
       "    }\n",
       "\n",
       "    .dataframe thead th {\n",
       "        text-align: right;\n",
       "    }\n",
       "</style>\n",
       "<table border=\"1\" class=\"dataframe\">\n",
       "  <thead>\n",
       "    <tr style=\"text-align: right;\">\n",
       "      <th></th>\n",
       "      <th>code</th>\n",
       "      <th>descrption</th>\n",
       "      <th>type</th>\n",
       "      <th>brand</th>\n",
       "      <th>size</th>\n",
       "    </tr>\n",
       "  </thead>\n",
       "  <tbody>\n",
       "    <tr>\n",
       "      <th>0</th>\n",
       "      <td>3000005040</td>\n",
       "      <td>AUNT JEM ORIGINAL PANCAKE MIX</td>\n",
       "      <td>Type 1</td>\n",
       "      <td>Aunt Jemima</td>\n",
       "      <td>2 LB</td>\n",
       "    </tr>\n",
       "    <tr>\n",
       "      <th>1</th>\n",
       "      <td>3000005070</td>\n",
       "      <td>A/JEM COMPLETE PANCAKE MI</td>\n",
       "      <td>Type 1</td>\n",
       "      <td>Aunt Jemima</td>\n",
       "      <td>32    OZ</td>\n",
       "    </tr>\n",
       "    <tr>\n",
       "      <th>2</th>\n",
       "      <td>3000005300</td>\n",
       "      <td>AJ BUTTERMILK PANCAKE MIX</td>\n",
       "      <td>Type 1</td>\n",
       "      <td>Aunt Jemima</td>\n",
       "      <td>32 OZ</td>\n",
       "    </tr>\n",
       "    <tr>\n",
       "      <th>3</th>\n",
       "      <td>3000005350</td>\n",
       "      <td>A J BTRMLK COMP PNCK MIX</td>\n",
       "      <td>Type 1</td>\n",
       "      <td>Aunt Jemima</td>\n",
       "      <td>1 LB</td>\n",
       "    </tr>\n",
       "    <tr>\n",
       "      <th>4</th>\n",
       "      <td>1600015760</td>\n",
       "      <td>BC PANCAKE MIX BUTTERMILK</td>\n",
       "      <td>Type 1</td>\n",
       "      <td>Bisquick</td>\n",
       "      <td>6.75 OZ</td>\n",
       "    </tr>\n",
       "  </tbody>\n",
       "</table>\n",
       "</div>"
      ],
      "text/plain": [
       "         code                     descrption    type        brand      size\n",
       "0  3000005040  AUNT JEM ORIGINAL PANCAKE MIX  Type 1  Aunt Jemima      2 LB\n",
       "1  3000005070      A/JEM COMPLETE PANCAKE MI  Type 1  Aunt Jemima  32    OZ\n",
       "2  3000005300      AJ BUTTERMILK PANCAKE MIX  Type 1  Aunt Jemima     32 OZ\n",
       "3  3000005350       A J BTRMLK COMP PNCK MIX  Type 1  Aunt Jemima      1 LB\n",
       "4  1600015760      BC PANCAKE MIX BUTTERMILK  Type 1     Bisquick   6.75 OZ"
      ]
     },
     "execution_count": 11,
     "metadata": {},
     "output_type": "execute_result"
    }
   ],
   "source": [
    "items = pd.read_csv('data/item.csv')\n",
    "items.head()"
   ]
  },
  {
   "cell_type": "code",
   "execution_count": 17,
   "id": "0900fe97",
   "metadata": {},
   "outputs": [
    {
     "data": {
      "text/plain": [
       "code          927\n",
       "descrption    872\n",
       "type            4\n",
       "brand         131\n",
       "size          146\n",
       "dtype: int64"
      ]
     },
     "execution_count": 17,
     "metadata": {},
     "output_type": "execute_result"
    }
   ],
   "source": [
    "# Count distinct values in each column\n",
    "items.nunique()"
   ]
  },
  {
   "cell_type": "code",
   "execution_count": 13,
   "id": "d5234772",
   "metadata": {},
   "outputs": [
    {
     "data": {
      "text/html": [
       "<div>\n",
       "<style scoped>\n",
       "    .dataframe tbody tr th:only-of-type {\n",
       "        vertical-align: middle;\n",
       "    }\n",
       "\n",
       "    .dataframe tbody tr th {\n",
       "        vertical-align: top;\n",
       "    }\n",
       "\n",
       "    .dataframe thead th {\n",
       "        text-align: right;\n",
       "    }\n",
       "</style>\n",
       "<table border=\"1\" class=\"dataframe\">\n",
       "  <thead>\n",
       "    <tr style=\"text-align: right;\">\n",
       "      <th></th>\n",
       "      <th>code</th>\n",
       "      <th>supermarkets</th>\n",
       "      <th>week</th>\n",
       "      <th>feature</th>\n",
       "      <th>display</th>\n",
       "      <th>province</th>\n",
       "    </tr>\n",
       "  </thead>\n",
       "  <tbody>\n",
       "    <tr>\n",
       "      <th>0</th>\n",
       "      <td>2700042240</td>\n",
       "      <td>285</td>\n",
       "      <td>91</td>\n",
       "      <td>Not on Feature</td>\n",
       "      <td>Mid-Aisle End Cap</td>\n",
       "      <td>2</td>\n",
       "    </tr>\n",
       "    <tr>\n",
       "      <th>1</th>\n",
       "      <td>2700042292</td>\n",
       "      <td>285</td>\n",
       "      <td>92</td>\n",
       "      <td>Interior Page Feature</td>\n",
       "      <td>Not on Display</td>\n",
       "      <td>2</td>\n",
       "    </tr>\n",
       "    <tr>\n",
       "      <th>2</th>\n",
       "      <td>2700042274</td>\n",
       "      <td>285</td>\n",
       "      <td>92</td>\n",
       "      <td>Interior Page Feature</td>\n",
       "      <td>Not on Display</td>\n",
       "      <td>2</td>\n",
       "    </tr>\n",
       "    <tr>\n",
       "      <th>3</th>\n",
       "      <td>2700042273</td>\n",
       "      <td>285</td>\n",
       "      <td>92</td>\n",
       "      <td>Interior Page Feature</td>\n",
       "      <td>Not on Display</td>\n",
       "      <td>2</td>\n",
       "    </tr>\n",
       "    <tr>\n",
       "      <th>4</th>\n",
       "      <td>2700042254</td>\n",
       "      <td>285</td>\n",
       "      <td>92</td>\n",
       "      <td>Interior Page Feature</td>\n",
       "      <td>Not on Display</td>\n",
       "      <td>2</td>\n",
       "    </tr>\n",
       "  </tbody>\n",
       "</table>\n",
       "</div>"
      ],
      "text/plain": [
       "         code  supermarkets  week                feature            display  \\\n",
       "0  2700042240           285    91         Not on Feature  Mid-Aisle End Cap   \n",
       "1  2700042292           285    92  Interior Page Feature     Not on Display   \n",
       "2  2700042274           285    92  Interior Page Feature     Not on Display   \n",
       "3  2700042273           285    92  Interior Page Feature     Not on Display   \n",
       "4  2700042254           285    92  Interior Page Feature     Not on Display   \n",
       "\n",
       "   province  \n",
       "0         2  \n",
       "1         2  \n",
       "2         2  \n",
       "3         2  \n",
       "4         2  "
      ]
     },
     "execution_count": 13,
     "metadata": {},
     "output_type": "execute_result"
    }
   ],
   "source": [
    "promo = pd.read_csv('data/promotion.csv')\n",
    "promo.head()"
   ]
  },
  {
   "cell_type": "code",
   "execution_count": 18,
   "id": "9e6c42c2",
   "metadata": {},
   "outputs": [
    {
     "data": {
      "text/plain": [
       "code            479\n",
       "supermarkets    381\n",
       "week             62\n",
       "feature           8\n",
       "display          11\n",
       "province          2\n",
       "dtype: int64"
      ]
     },
     "execution_count": 18,
     "metadata": {},
     "output_type": "execute_result"
    }
   ],
   "source": [
    "promo.nunique()"
   ]
  },
  {
   "cell_type": "code",
   "execution_count": 14,
   "id": "0c681030",
   "metadata": {},
   "outputs": [
    {
     "data": {
      "text/html": [
       "<div>\n",
       "<style scoped>\n",
       "    .dataframe tbody tr th:only-of-type {\n",
       "        vertical-align: middle;\n",
       "    }\n",
       "\n",
       "    .dataframe tbody tr th {\n",
       "        vertical-align: top;\n",
       "    }\n",
       "\n",
       "    .dataframe thead th {\n",
       "        text-align: right;\n",
       "    }\n",
       "</style>\n",
       "<table border=\"1\" class=\"dataframe\">\n",
       "  <thead>\n",
       "    <tr style=\"text-align: right;\">\n",
       "      <th></th>\n",
       "      <th>code</th>\n",
       "      <th>amount</th>\n",
       "      <th>units</th>\n",
       "      <th>time</th>\n",
       "      <th>province</th>\n",
       "      <th>week</th>\n",
       "      <th>customerId</th>\n",
       "      <th>supermarket</th>\n",
       "      <th>basket</th>\n",
       "      <th>day</th>\n",
       "      <th>voucher</th>\n",
       "    </tr>\n",
       "  </thead>\n",
       "  <tbody>\n",
       "    <tr>\n",
       "      <th>0</th>\n",
       "      <td>7680850106</td>\n",
       "      <td>0.80</td>\n",
       "      <td>1</td>\n",
       "      <td>1100</td>\n",
       "      <td>2</td>\n",
       "      <td>1</td>\n",
       "      <td>125434</td>\n",
       "      <td>244</td>\n",
       "      <td>1</td>\n",
       "      <td>1</td>\n",
       "      <td>0</td>\n",
       "    </tr>\n",
       "    <tr>\n",
       "      <th>1</th>\n",
       "      <td>3620000470</td>\n",
       "      <td>3.59</td>\n",
       "      <td>1</td>\n",
       "      <td>1100</td>\n",
       "      <td>2</td>\n",
       "      <td>1</td>\n",
       "      <td>125434</td>\n",
       "      <td>244</td>\n",
       "      <td>1</td>\n",
       "      <td>1</td>\n",
       "      <td>0</td>\n",
       "    </tr>\n",
       "    <tr>\n",
       "      <th>2</th>\n",
       "      <td>1800028064</td>\n",
       "      <td>2.25</td>\n",
       "      <td>1</td>\n",
       "      <td>1137</td>\n",
       "      <td>2</td>\n",
       "      <td>1</td>\n",
       "      <td>108320</td>\n",
       "      <td>244</td>\n",
       "      <td>2</td>\n",
       "      <td>1</td>\n",
       "      <td>0</td>\n",
       "    </tr>\n",
       "    <tr>\n",
       "      <th>3</th>\n",
       "      <td>9999985067</td>\n",
       "      <td>0.85</td>\n",
       "      <td>1</td>\n",
       "      <td>1148</td>\n",
       "      <td>2</td>\n",
       "      <td>1</td>\n",
       "      <td>162016</td>\n",
       "      <td>244</td>\n",
       "      <td>3</td>\n",
       "      <td>1</td>\n",
       "      <td>0</td>\n",
       "    </tr>\n",
       "    <tr>\n",
       "      <th>4</th>\n",
       "      <td>9999985131</td>\n",
       "      <td>2.19</td>\n",
       "      <td>1</td>\n",
       "      <td>1323</td>\n",
       "      <td>2</td>\n",
       "      <td>1</td>\n",
       "      <td>89437</td>\n",
       "      <td>244</td>\n",
       "      <td>4</td>\n",
       "      <td>1</td>\n",
       "      <td>0</td>\n",
       "    </tr>\n",
       "  </tbody>\n",
       "</table>\n",
       "</div>"
      ],
      "text/plain": [
       "         code  amount  units  time  province  week  customerId  supermarket  \\\n",
       "0  7680850106    0.80      1  1100         2     1      125434          244   \n",
       "1  3620000470    3.59      1  1100         2     1      125434          244   \n",
       "2  1800028064    2.25      1  1137         2     1      108320          244   \n",
       "3  9999985067    0.85      1  1148         2     1      162016          244   \n",
       "4  9999985131    2.19      1  1323         2     1       89437          244   \n",
       "\n",
       "   basket  day  voucher  \n",
       "0       1    1        0  \n",
       "1       1    1        0  \n",
       "2       2    1        0  \n",
       "3       3    1        0  \n",
       "4       4    1        0  "
      ]
     },
     "execution_count": 14,
     "metadata": {},
     "output_type": "execute_result"
    }
   ],
   "source": [
    "sales = pd.read_csv('data/sales.csv')\n",
    "sales.head()"
   ]
  },
  {
   "cell_type": "code",
   "execution_count": 19,
   "id": "60e1cf17",
   "metadata": {},
   "outputs": [
    {
     "data": {
      "text/plain": [
       "code              782\n",
       "amount            971\n",
       "units              30\n",
       "time             1440\n",
       "province            2\n",
       "week               25\n",
       "customerId     249610\n",
       "supermarket       376\n",
       "basket         665450\n",
       "day               166\n",
       "voucher             2\n",
       "dtype: int64"
      ]
     },
     "execution_count": 19,
     "metadata": {},
     "output_type": "execute_result"
    }
   ],
   "source": [
    "sales.nunique()"
   ]
  },
  {
   "cell_type": "code",
   "execution_count": 16,
   "id": "396ec241",
   "metadata": {},
   "outputs": [
    {
     "data": {
      "text/html": [
       "<div>\n",
       "<style scoped>\n",
       "    .dataframe tbody tr th:only-of-type {\n",
       "        vertical-align: middle;\n",
       "    }\n",
       "\n",
       "    .dataframe tbody tr th {\n",
       "        vertical-align: top;\n",
       "    }\n",
       "\n",
       "    .dataframe thead th {\n",
       "        text-align: right;\n",
       "    }\n",
       "</style>\n",
       "<table border=\"1\" class=\"dataframe\">\n",
       "  <thead>\n",
       "    <tr style=\"text-align: right;\">\n",
       "      <th></th>\n",
       "      <th>supermarket_No</th>\n",
       "      <th>postal-code</th>\n",
       "    </tr>\n",
       "  </thead>\n",
       "  <tbody>\n",
       "    <tr>\n",
       "      <th>0</th>\n",
       "      <td>199</td>\n",
       "      <td>30319</td>\n",
       "    </tr>\n",
       "    <tr>\n",
       "      <th>1</th>\n",
       "      <td>200</td>\n",
       "      <td>30134</td>\n",
       "    </tr>\n",
       "    <tr>\n",
       "      <th>2</th>\n",
       "      <td>201</td>\n",
       "      <td>30066</td>\n",
       "    </tr>\n",
       "    <tr>\n",
       "      <th>3</th>\n",
       "      <td>202</td>\n",
       "      <td>31093</td>\n",
       "    </tr>\n",
       "    <tr>\n",
       "      <th>4</th>\n",
       "      <td>203</td>\n",
       "      <td>30542</td>\n",
       "    </tr>\n",
       "  </tbody>\n",
       "</table>\n",
       "</div>"
      ],
      "text/plain": [
       "   supermarket_No  postal-code\n",
       "0             199        30319\n",
       "1             200        30134\n",
       "2             201        30066\n",
       "3             202        31093\n",
       "4             203        30542"
      ]
     },
     "execution_count": 16,
     "metadata": {},
     "output_type": "execute_result"
    }
   ],
   "source": [
    "supermarkets = pd.read_csv('data/supermarkets.csv')\n",
    "supermarkets.head()"
   ]
  },
  {
   "cell_type": "code",
   "execution_count": 20,
   "id": "68689678",
   "metadata": {},
   "outputs": [
    {
     "data": {
      "text/plain": [
       "supermarket_No    387\n",
       "postal-code       299\n",
       "dtype: int64"
      ]
     },
     "execution_count": 20,
     "metadata": {},
     "output_type": "execute_result"
    }
   ],
   "source": [
    "supermarkets.nunique()"
   ]
  },
  {
   "cell_type": "markdown",
   "id": "b6d5f15b",
   "metadata": {},
   "source": [
    "# Data Cleaning\n",
    "Data is not in a great format for our purposes\n",
    "1. Encode brands, types, features, etc. to not be text\n",
    "2. Convert weights (this might be more trouble than it's worth)\n",
    "3. Are joins needed?"
   ]
  },
  {
   "cell_type": "code",
   "execution_count": null,
   "id": "e812a181",
   "metadata": {},
   "outputs": [],
   "source": []
  }
 ],
 "metadata": {
  "kernelspec": {
   "display_name": "venv (3.12.4)",
   "language": "python",
   "name": "python3"
  },
  "language_info": {
   "codemirror_mode": {
    "name": "ipython",
    "version": 3
   },
   "file_extension": ".py",
   "mimetype": "text/x-python",
   "name": "python",
   "nbconvert_exporter": "python",
   "pygments_lexer": "ipython3",
   "version": "3.12.4"
  }
 },
 "nbformat": 4,
 "nbformat_minor": 5
}
